{
 "cells": [
  {
   "cell_type": "markdown",
   "metadata": {},
   "source": [
    "# MLS Tasks 2020\n",
    "\n",
    "Slawomir Sowa<br>\n",
    "G00375619@gmit.ie\n",
    "***"
   ]
  },
  {
   "cell_type": "markdown",
   "metadata": {},
   "source": [
    "### Task 1: Square root of 2 to 100 places\n",
    "#### Description:\n",
    "\n",
    "#### Research:\n",
    "\n",
    "Square root of a number $x$ is a number $y$ that $ y^2 = x$. <em>[1]</em>\n",
    "\n",
    "$$ y = \\sqrt{x} $$\n",
    "    \n",
    "[1] Wikipedia; Square root; https://en.wikipedia.org/wiki/Square_root"
   ]
  },
  {
   "cell_type": "code",
   "execution_count": 2,
   "metadata": {},
   "outputs": [
    {
     "data": {
      "image/png": "[encoded data removed]",
      "text/plain": [
       "<Figure size 720x504 with 1 Axes>"
      ]
     },
     "metadata": {
      "needs_background": "light"
     },
     "output_type": "display_data"
    }
   ],
   "source": [
    "# plot a chart of square root\n",
    "import matplotlib.pyplot as plt\n",
    "import numpy as np\n",
    "\n",
    "# generate evenly spaced numbers between 0 and 10\n",
    "x = np.linspace(0,10,500)\n",
    "\n",
    "# using numby module sqrt calculate square root of generated numbers \n",
    "y = np.sqrt(x)\n",
    "\n",
    "# adjust plot size \n",
    "plt.figure(figsize=(10,7))\n",
    "\n",
    "# generate plot\n",
    "plt.plot(x,y,label=\"Square root\")\n",
    "plt.plot([2,2],[0,3],\":r\")\n",
    "plt.plot([0,4],[np.sqrt(2),np.sqrt(2)],\":r\")\n",
    "plt.plot(2,np.sqrt(2),\"ro\",  markersize=6, label=\"$ \\sqrt{2}$\")\n",
    "\n",
    "\n",
    "# add title and axes\n",
    "plt.title(\"Square root chart\",fontsize = 18 )\n",
    "plt.xlabel(\"$x$\",fontsize = 18)\n",
    "plt.ylabel(\"$y = \\sqrt{x}$\",fontsize = 18)\n",
    "\n",
    "# add text to plot\n",
    "plt.text(0,1.5,\"$aprox. 1.4..$\", fontsize = 14)\n",
    "\n",
    "# show legend\n",
    "plt.legend()\n",
    "plt.show()\n"
   ]
  },
  {
   "cell_type": "markdown",
   "metadata": {},
   "source": [
    "The red marker on the chart is our topic for calculation. Our task is to calculate $\\sqrt{2}$  to 100 decimal places."
   ]
  },
  {
   "cell_type": "markdown",
   "metadata": {},
   "source": [
    "I started by searching Google for methods to manually calculate the square root. I found a post on Quora <em>[2]</em> that describes many different methods, among others Newton's Method.<br>\n",
    "Newton Method was described as\n",
    ">Newton's method can get you a good estimate quickly, and if you were going to write a computer program to take the square root, Newton's method would be a good way to go.\n",
    "\n",
    "Newton's Definition in wikipedia <em>[3]</em>:\n",
    ">In numerical analysis, Newton's method, also known as the Newton–Raphson method, named after Isaac Newton and Joseph Raphson, is a root-finding algorithm which produces successively better approximations to the roots (or zeroes) of a real-valued function. \n",
    "\n",
    "\n",
    "\n",
    "\n",
    "\n",
    "[2] Quora; Methods to calculate square root ; https://www.quora.com/What-is-the-method-to-calculate-a-square-root-by-hand<br>\n",
    "[3] Wikipedia; Newton's method; https://en.wikipedia.org/wiki/Newton%27s_method\n"
   ]
  },
  {
   "cell_type": "markdown",
   "metadata": {},
   "source": [
    "#### Calculations:\n",
    "\n",
    "The method can be described by the formula <em>[3]</em>:\n",
    "$$ x_{k+1} = x_{k}- \\frac{f(x_{k})}{f'(x_{k})} $$\n",
    "\n",
    "Using this formula we can calculate the approximate square root <em>[4]</em>.\n",
    "\n",
    "$$ \\sqrt{a} = x \\Leftrightarrow a = x^2  \\Leftrightarrow x^2 - a = 0 $$ \n",
    "\n",
    "Then:\n",
    "\n",
    "$$ f(x) = x^2 - a $$\n",
    "\n",
    "and derivative function:\n",
    "$$ f'(x) = 2x $$\n",
    "\n",
    "So now our equation is in the form:\n",
    "\n",
    "$$ x_{k+1} = x_{k}- \\frac{x_k^2 - a}{2x_k} $$\n",
    "<br>\n",
    "\n",
    "$$ x_{k+1} = \\frac{1}{2}(x_k + \\frac{a}{x_k})$$\n",
    "\n",
    "Let's calculate the $\\sqrt{2}$ manually.\n",
    "\n",
    "Our $a=2$ and from the graph we can read that our point is close to $x_0 = 1.5$\n",
    "\n",
    "\n",
    "$$x_1 = \\frac{1}{2}(1.5 + \\frac{2}{1.5}) \\approx 1.416666$$ <br>\n",
    "\n",
    "The next step is to take the result and use it to find a closer approximation to the root.<br>\n",
    "\n",
    "$$x_2 = \\frac{1}{2}(1.416666 + \\frac{2}{1.416666}) \\approx 1.414214$$\n",
    "\n",
    "We could continue computing until we find a satisfactory approximation.\n",
    "\n",
    "[4] Square Roots via Newton’s Method; S. G. Johnson, MIT Course February 4, 2015; https://math.mit.edu/~stevenj/18.335/newton-sqrt.pdf\n"
   ]
  },
  {
   "cell_type": "markdown",
   "metadata": {},
   "source": [
    "#### Create a square root to compare:\n",
    "\n",
    "To be sure of the correctness of my calculations, I will compare my result with square root of 2 calculated by Decimal Python module.\n",
    "\n",
    "The decimal module provides support for fast correctly-rounded decimal floating point arithmetic.<em>[5]</em>\n",
    "\n",
    "[5] Python documentation; Numeric and Mathematical Modules; https://docs.python.org/3/library/decimal.html"
   ]
  },
  {
   "cell_type": "code",
   "execution_count": 2,
   "metadata": {},
   "outputs": [
    {
     "name": "stdout",
     "output_type": "stream",
     "text": [
      "Python Decimal Result: 1.4142135623730950488016887242096980785696718753769480731766797379907324784621070388503875343276415727\n",
      "Python Decimal Length: 102\n"
     ]
    }
   ],
   "source": [
    "# Generating a model to compare our calculations\n",
    "from decimal import *\n",
    "\n",
    "# set precision\n",
    "getcontext().prec = 101\n",
    "\n",
    "# calculate the square root to 100 decimal places  \n",
    "decimal_sqrt_2 = Decimal(2).sqrt()\n",
    "\n",
    "# calucated square root converted to string \n",
    "decimal_sqrt_2 = str(decimal_sqrt_2)\n",
    "\n",
    "print(\"Python Decimal Result: \" + decimal_sqrt_2)\n",
    "print(\"Python Decimal Length: \" + str(len(decimal_sqrt_2)))\n"
   ]
  },
  {
   "cell_type": "markdown",
   "metadata": {},
   "source": [
    "#### My Answer Code: \n",
    "\n",
    "##### Attempt 1"
   ]
  },
  {
   "cell_type": "code",
   "execution_count": 3,
   "metadata": {},
   "outputs": [],
   "source": [
    "# Calculate square root without any imported modules\n",
    "\n",
    "# first attempt to solve problem using floating point numbers\n",
    "def calc_sqrt(x): \n",
    "    ''' A function to calculate root of number 2 up to 100 decimal places \n",
    "        param : float or int : number to calculate square root \n",
    "        return : float : square root of x\n",
    "    '''\n",
    "\n",
    "    prec = 10**(-10) # set a precision \n",
    "    i =  x/2  # Initial guess for the square root z\n",
    "    \n",
    "    # Loop required precision is reached \n",
    "    while abs(x-i*i) > prec:\n",
    "        # calculate better approximation\n",
    "        i = (i + x/ i)/2\n",
    "    # return square root of x     \n",
    "    return i\n"
   ]
  },
  {
   "cell_type": "code",
   "execution_count": 4,
   "metadata": {},
   "outputs": [
    {
     "name": "stdout",
     "output_type": "stream",
     "text": [
      "Calculated square root:  1.4142135623746898698271934335934929549694061279296875000000000000000000000000000000000000000000000000\n"
     ]
    }
   ],
   "source": [
    "root = format(calc_sqrt(2), \",.100f\")\n",
    "print(\"Calculated square root: \", root)"
   ]
  },
  {
   "cell_type": "code",
   "execution_count": 5,
   "metadata": {},
   "outputs": [
    {
     "data": {
      "text/plain": [
       "False"
      ]
     },
     "execution_count": 5,
     "metadata": {},
     "output_type": "execute_result"
    }
   ],
   "source": [
    "# compare calculated square root to square root calculatef from Python Decimal\n",
    "\n",
    "decimal_sqrt_2 == root"
   ]
  },
  {
   "cell_type": "markdown",
   "metadata": {},
   "source": [
    "By reading python documentation <em>[6]</em> I know that using floating point with precision 100 decimal places will not work. \n",
    "\n",
    "\n",
    "[6] Python Documentation ; Floating Point Arithmetic: Issues and Limitations; https://docs.python.org/2/tutorial/floatingpoint.html\n"
   ]
  },
  {
   "cell_type": "markdown",
   "metadata": {},
   "source": [
    "##### Attempt 2"
   ]
  },
  {
   "cell_type": "code",
   "execution_count": 6,
   "metadata": {},
   "outputs": [],
   "source": [
    "# Code adapt from https://rosettacode.org/wiki/Integer_roots#Python\n",
    "\n",
    "def sqrt_2(precision):\n",
    "    '''Method to calculate square root of a number using large integers \n",
    "        param : int : the accuracy with which we want to calculate the square root\n",
    "        return : str : the calculated square root as a large integer is formatted \n",
    "                        and converted into a string representing a floating point number\n",
    "    '''\n",
    "    \n",
    "    \n",
    "    prec = 2*100**precision # Set a precision as a large integer number holds 201 places\n",
    "    \n",
    "    x_1 = 1  # Set Starting Value \n",
    "    \n",
    "    x_2 = (x_1 + prec // (x_1)) // 2 # calculate second step of aproximation  \n",
    "    \n",
    "\n",
    "    while x_1 != x_2:   # While loop repeats steps  of calculating x_1 and x_2 to get closer approximation\n",
    "                        # when x is equal to y the loop stops,\n",
    "                        # which indicates that we have calculated the root with the given precision\n",
    "        x_1 = x_2    \n",
    "        x_2 = (x_2 + prec // x_2) // 2 # calculates precision\n",
    "    \n",
    "    result = f'{x_2  // 10**100}.{x_2  % 10**100:0100d}'\n",
    "    return result\n",
    " "
   ]
  },
  {
   "cell_type": "code",
   "execution_count": 7,
   "metadata": {},
   "outputs": [
    {
     "name": "stdout",
     "output_type": "stream",
     "text": [
      "1.4142135623730950488016887242096980785696718753769480731766797379907324784621070388503875343276415727\n"
     ]
    }
   ],
   "source": [
    "\n",
    "root_2 = sqrt_2(100) # Function Call with precision 100\n",
    "print(root_2)"
   ]
  },
  {
   "cell_type": "code",
   "execution_count": 8,
   "metadata": {},
   "outputs": [
    {
     "data": {
      "text/plain": [
       "True"
      ]
     },
     "execution_count": 8,
     "metadata": {},
     "output_type": "execute_result"
    }
   ],
   "source": [
    "# compare calculated square root to square root calculatef from Python Decimal\n",
    "\n",
    "decimal_sqrt_2 == root_2"
   ]
  },
  {
   "cell_type": "markdown",
   "metadata": {},
   "source": [
    "#### Result\n",
    "\n",
    "This task is to calculate square root without importing additional libraries to the nearest 100 decimal places. To solve the problem, I had to find an algorithm that would allow me to calculate the square root of any number with a pencil and a piece of paper. Another problem was that floating point variables were not able to hold value with 100 decimal places.\n",
    "I used google search engine and found out that with such high precision it is necessary to use integers and then convert and store the results as a string.\n",
    "I learned a step-by-step approach to solving the problem.\n"
   ]
  },
  {
   "cell_type": "markdown",
   "metadata": {},
   "source": [
    "#### References\n",
    "\n",
    "<em>[1].</em> Wikipedia; Square root; https://en.wikipedia.org/wiki/Square_root<br>\n",
    "<em>[2].</em> Quora; Methods to calculate square root ; https://www.quora.com/What-is-the-method-to-calculate-a-square-root-by-hand<br>\n",
    "<em>[3].</em> Wikipedia; Newton's method; https://en.wikipedia.org/wiki/Newton%27s_method <br>\n",
    "<em>[4].</em> Square Roots via Newton’s Method; S. G. Johnson, MIT Course February 4, 2015; https://math.mit.edu/~stevenj/18.335/newton-sqrt.pdf<br>\n",
    "<em>[5].</em> Python documentation; Numeric and Mathematical Modules; https://docs.python.org/3/library/decimal.html<br>   \n",
    "<em>[6].</em> Python Documentation ; Floating Point Arithmetic: Issues and Limitations; https://docs.python.org/2/tutorial/floatingpoint.html<br>"
   ]
  },
  {
   "cell_type": "markdown",
   "metadata": {},
   "source": [
    "### Task 2: Chi Square\n",
    "\n",
    "#### Description\n",
    "\n",
    "The Chi-squared test for independence is a statistical hypothesis test like a t-test. It is used to analyse whether two categorical variables are independent. The Wikipedia article gives the table below as an example,stating the Chi-squared value based on it is approximately 24.6. Use scipy.stats to verify this value and calculate the associated p value. You should include a short note with references justifying your analysis in a markdown cell."
   ]
  },
  {
   "cell_type": "markdown",
   "metadata": {},
   "source": [
    "#### Research\n",
    "\n",
    "The Chi-square test of independence is used to determine if there is a significant relationship between two variables. For example, we could use a chi-square test to determine if the gender of the students is related to the choice of subjects. <em>[1]</em>\n",
    "<br>\n",
    "<br>\n",
    "<em>[1].</em> \"Chi-Square Test for Independence\"; https://stattrek.com/chi-square-test/independence.aspx "
   ]
  },
  {
   "cell_type": "markdown",
   "metadata": {},
   "source": [
    "#### Create Dataframe"
   ]
  },
  {
   "cell_type": "code",
   "execution_count": 9,
   "metadata": {},
   "outputs": [
    {
     "data": {
      "text/html": [
       "<div>\n",
       "<style scoped>\n",
       "    .dataframe tbody tr th:only-of-type {\n",
       "        vertical-align: middle;\n",
       "    }\n",
       "\n",
       "    .dataframe tbody tr th {\n",
       "        vertical-align: top;\n",
       "    }\n",
       "\n",
       "    .dataframe thead th {\n",
       "        text-align: right;\n",
       "    }\n",
       "</style>\n",
       "<table border=\"1\" class=\"dataframe\">\n",
       "  <thead>\n",
       "    <tr style=\"text-align: right;\">\n",
       "      <th></th>\n",
       "      <th>A</th>\n",
       "      <th>B</th>\n",
       "      <th>C</th>\n",
       "      <th>D</th>\n",
       "    </tr>\n",
       "  </thead>\n",
       "  <tbody>\n",
       "    <tr>\n",
       "      <th>White collar</th>\n",
       "      <td>90</td>\n",
       "      <td>60</td>\n",
       "      <td>104</td>\n",
       "      <td>95</td>\n",
       "    </tr>\n",
       "    <tr>\n",
       "      <th>Blue collar</th>\n",
       "      <td>30</td>\n",
       "      <td>50</td>\n",
       "      <td>51</td>\n",
       "      <td>20</td>\n",
       "    </tr>\n",
       "    <tr>\n",
       "      <th>No Collar</th>\n",
       "      <td>30</td>\n",
       "      <td>40</td>\n",
       "      <td>45</td>\n",
       "      <td>35</td>\n",
       "    </tr>\n",
       "  </tbody>\n",
       "</table>\n",
       "</div>"
      ],
      "text/plain": [
       "               A   B    C   D\n",
       "White collar  90  60  104  95\n",
       "Blue collar   30  50   51  20\n",
       "No Collar     30  40   45  35"
      ]
     },
     "execution_count": 9,
     "metadata": {},
     "output_type": "execute_result"
    }
   ],
   "source": [
    "import pandas as pd\n",
    "\n",
    "# Create data as a list of lists\n",
    "chi_data = [[90, 60, 104, 95], \n",
    "            [30, 50, 51, 20], \n",
    "            [30, 40, 45, 35]]\n",
    "\n",
    "# Create dataframe using pandas DataFrame method\n",
    "df = pd.DataFrame(chi_data, # add data\n",
    "                  index = ['White collar', 'Blue collar', 'No Collar'], # add indexes\n",
    "                 columns = [\"A\",\"B\",\"C\",\"D\"] # add columns \n",
    "                 )\n",
    "df # print dataframe"
   ]
  },
  {
   "cell_type": "code",
   "execution_count": 10,
   "metadata": {},
   "outputs": [
    {
     "name": "stdout",
     "output_type": "stream",
     "text": [
      "Chi Square: 24.57\n",
      "P-Value: 0.00040984\n",
      "Degree of freedom: 6\n"
     ]
    }
   ],
   "source": [
    "# importing chi2_contingency - function to compute the chi-square statistic ,p-value and Degree of freedom\n",
    "# for the hypothesis test of independence\n",
    "# [2]. scipy.stats.chi2_contingency; https://docs.scipy.org/doc/scipy/reference/generated/scipy.stats.chi2_contingency.html\n",
    "\n",
    "from scipy.stats import chi2_contingency\n",
    "\n",
    "chi_2, p_val, degree_of_freedom, expected_values = chi2_contingency(df)\n",
    "\n",
    "print(f\"Chi Square: {round(chi_2,2)}\")\n",
    "print(f\"P-Value: {round(p_val,8)}\")\n",
    "print(f\"Degree of freedom: {degree_of_freedom}\")\n"
   ]
  },
  {
   "cell_type": "markdown",
   "metadata": {},
   "source": [
    "#### Checking for indpendence\n",
    "Knowing the p-val, we can determine whether our sets of data are dependent or independent<br>\n",
    "\n",
    "H0 : Two variables are independent - null hipotesis<br>\n",
    "H1 : Two variables are dependent - alternative hipotesis<br>"
   ]
  },
  {
   "cell_type": "code",
   "execution_count": 11,
   "metadata": {},
   "outputs": [
    {
     "name": "stdout",
     "output_type": "stream",
     "text": [
      "p-value=0.00040984, significance=0.01\n",
      "\n",
      "At 0.01 level of significance, we reject the null hypotheses H0 and accept H1. \n",
      "They are dependent.\n"
     ]
    }
   ],
   "source": [
    "# Checkig for independence\n",
    "# [3]. https://towardsdatascience.com/gentle-introduction-to-chi-square-test-for-independence-7182a7414a95\n",
    "\n",
    "significance = 0.01 # set level of significance to 1%\n",
    "print('p-value=%.8f, significance=%.2f\\n' % (p_val, significance))\n",
    "\n",
    "# if p_val is lower that level of significance H0 is rejected\n",
    "if p_val < significance:\n",
    "    print(\"\"\"At %.2f level of significance, we reject the null hypotheses H0 and accept H1. \n",
    "They are dependent.\"\"\" % (significance))\n",
    "else:\n",
    "    print(\"\"\"At %.2f level of significance, we accept the null hypotheses H0. \n",
    "They are independent.\"\"\" % (significance))"
   ]
  },
  {
   "cell_type": "markdown",
   "metadata": {},
   "source": [
    "#### Result\n",
    "\n",
    "This task allowed me to understand and learn about the principles of Chi Square for test of independence. This is a function from scipy.stats that determines whether data is dependent on each other. The Hypotesis Testing performed has shown that the data are dependent."
   ]
  },
  {
   "cell_type": "markdown",
   "metadata": {},
   "source": [
    "#### References\n",
    "\n",
    "<em>[1].</em> \"Chi-Square Test for Independence\"; https://stattrek.com/chi-square-test/independence.aspx <br>\n",
    "<em>[2].</em> \"scipy.stats.chi2_contingency\"   https://docs.scipy.org/doc/scipy/reference/generated/scipy.stats.chi2_contingency.html<br>\n",
    "<em>[3].</em> \"Gentle Introduction to Chi-Square Test for Independence\"; https://towardsdatascience.com/gentle-introduction-to-chi-square-test-for-independence-7182a7414a95"
   ]
  },
  {
   "cell_type": "markdown",
   "metadata": {},
   "source": [
    "### Task 3: Standard Deviation\n",
    "\n",
    "#### Description\n",
    "The standard deviation of an array of numbers x is calculated using numpy as np.sqrt(np.sum((x - np.mean(x))**2)/len(x). However, Microsoft Excel has two different versions of the standard deviation calculation, STDEV.P and STDEV.S . The STDEV.P function performs the above calculation but in the STDEV.S calculation the division is by len(x)-1 rather than len(x) . Research these Excel functions, writing a note in a Markdown cell about the difference between them. Then use numpy to perform a simulation demonstrating that the STDEV.S calculation is a better estimate for the standard deviation of a population when performed on a sample. Note that part of this task is to figure out the terminology in the previous sentence."
   ]
  },
  {
   "cell_type": "markdown",
   "metadata": {},
   "source": [
    "#### Research\n",
    "\n",
    "###### STDEV.P \n",
    "<code>STDEV.P(number1,[number2],...)</code> this excel function calculates the standard deviation of the whole population given as argument to the function, using following formula <em>[1]</em>:\n",
    "$$\\sigma = \\sqrt{\\frac{\\sum(x-\\overline{x})^2}{n}}  $$\n",
    "\n",
    "\n",
    "\n",
    "###### STDEV.S\n",
    "<code>STDEV.S(number1,[number2],...)</code> Estimates standard deviation based on a sample of the population. STDEV.S uses the following formula:\n",
    "$$s = \\sqrt{\\frac{\\sum(x-\\overline{x})^2}{(n-1)}}  $$\n",
    "\n",
    "Used $(n-1)$ is knows as a Bessel's correction <em>[2]</em>\n",
    "\n",
    "###### numpy.std\n",
    "<code>numpy.std(a, axis=None, dtype=None, out=None, ddof=0, keepdims=bool) </code> Numpy std function returns the calculated standard deviation, the standard deviation is computed for the flattened array by default, otherwise over the specified axis.\n",
    "\n",
    "<code>Parameters</code><br>\n",
    "<code>a </code> : array_like : Calculate the standard deviation of these values.\n",
    "\n",
    "<code>axis</code> : None or int or tuple of ints, optional Axis or axes along which the standard deviation is computed. The default is to compute the standard deviation of the flattened array.\n",
    "\n",
    "\n",
    "<code>dtype : dtype</code>, optional\n",
    "Type to use in computing the standard deviation. For arrays of integer type the default is float64, for arrays of float types it is the same as the array type.\n",
    "\n",
    "<code>out : ndarray</code>, optional\n",
    "Alternative output array in which to place the result. It must have the same shape as the expected output but the type (of the calculated values) will be cast if necessary.\n",
    "\n",
    "<code>ddof : int</code>, optional\n",
    "Means Delta Degrees of Freedom. The divisor used in calculations is N - ddof, where N represents the number of elements. By default ddof is zero.\n",
    "\n",
    "<code>keepdims : bool</code>, optional\n",
    "If this is set to True, the axes which are reduced are left in the result as dimensions with size one. With this option, the result will broadcast correctly against the input array.\n",
    "\n",
    "If the default value is passed, then keepdims will not be passed through to the std method of sub-classes of ndarray, however any non-default value will be. If the sub-class’ method does not implement keepdims any exceptions will be raised.\n",
    "\n",
    "<code>Returns</code> : standard_deviationndarray, see dtype parameter above.If out is None, return a new array containing the standard deviation, otherwise return a reference to the output array.\n",
    "$$s = \\sqrt{\\frac{np.sum(x-np.mean(x))^2}{len(x)}}  $$\n",
    "\n",
    "<em>[1].</em> Miscrosoft; STDEV.P function; https://support.microsoft.com/en-us/office/stdev-p-function-6e917c05-31a0-496f-ade7-4f4e7462f285<br>\n",
    "<em>[2].</em> Corrected sample standard deviation; https://en.wikipedia.org/wiki/Standard_deviation"
   ]
  },
  {
   "cell_type": "markdown",
   "metadata": {},
   "source": [
    "#### Calculations\n"
   ]
  },
  {
   "cell_type": "markdown",
   "metadata": {},
   "source": [
    "##### Importing Libraries"
   ]
  },
  {
   "cell_type": "code",
   "execution_count": 12,
   "metadata": {},
   "outputs": [],
   "source": [
    "# Importing all modules needed to perform the calculations\n",
    "import numpy as np\n",
    "import matplotlib.pyplot as plt\n",
    "import seaborn as sns"
   ]
  },
  {
   "cell_type": "markdown",
   "metadata": {},
   "source": [
    "##### Defining functions"
   ]
  },
  {
   "cell_type": "code",
   "execution_count": 13,
   "metadata": {},
   "outputs": [],
   "source": [
    "# By knowing the Excel formula for STDV.P and STDV we can create two functions that will simulate\n",
    "# their behaviour\n",
    "\n",
    "# create STDEV.P function\n",
    "def stdev_p(x):\n",
    "    result = np.sqrt(np.sum((x - np.mean(x))**2)/len(x))\n",
    "    return result\n",
    "\n",
    "# create STDEV.S function\n",
    "def stdev_s(x):\n",
    "    result = np.sqrt(np.sum((x - np.mean(x))**2)/(len(x)-1))\n",
    "    return result\n"
   ]
  },
  {
   "cell_type": "markdown",
   "metadata": {},
   "source": [
    "##### Generate dataset"
   ]
  },
  {
   "cell_type": "code",
   "execution_count": 14,
   "metadata": {},
   "outputs": [],
   "source": [
    "# Randomly generate data for simulation \n",
    "# [3]. numpy.random.normal; https://numpy.org/doc/stable/reference/random/generated/numpy.random.normal.html\n",
    "np.random.seed(5)\n",
    "\n",
    "# generate random data by using np.random.normal \n",
    "mean = 0\n",
    "standard_deviation = 5\n",
    "full_population = np.random.normal(mean,standard_deviation,100000)\n"
   ]
  },
  {
   "cell_type": "markdown",
   "metadata": {},
   "source": [
    "##### Create a chart"
   ]
  },
  {
   "cell_type": "code",
   "execution_count": 15,
   "metadata": {},
   "outputs": [
    {
     "data": {
      "image/png": "[encoded data removed]",
      "text/plain": [
       "<Figure size 1080x576 with 1 Axes>"
      ]
     },
     "metadata": {
      "needs_background": "light"
     },
     "output_type": "display_data"
    }
   ],
   "source": [
    "# Create plot \n",
    "# [4]. Visualizing distributions of data; https://seaborn.pydata.org/tutorial/distributions.html\n",
    "\n",
    "# set plot size\n",
    "plt.figure(figsize=(15,8))\n",
    "\n",
    "# create plot\n",
    "sns.distplot(full_population)\n",
    "\n",
    "# set labels and title\n",
    "plt.xlabel('x ', fontsize=18)\n",
    "plt.ylabel('$f(x)$', fontsize=18)\n",
    "plt.title('Entire Population Distribution', fontsize = 18)\n",
    "\n",
    "# show plot \n",
    "plt.show()"
   ]
  },
  {
   "cell_type": "markdown",
   "metadata": {},
   "source": [
    "##### Calculate Standard Deviation for entire population"
   ]
  },
  {
   "cell_type": "markdown",
   "metadata": {},
   "source": [
    "Using the STDEV.P and STDEV.S functions created, calculate the standard deviation for the entire population."
   ]
  },
  {
   "cell_type": "code",
   "execution_count": 19,
   "metadata": {},
   "outputs": [
    {
     "name": "stdout",
     "output_type": "stream",
     "text": [
      "Standard Deviation for entire population (STDEV.P):  5.01112818\n"
     ]
    }
   ],
   "source": [
    "# STDEV.P\n",
    "# calculate standard deviation for entire dataset\n",
    "standard_deviation_full = stdev_p(full_population)\n",
    "print(\"Standard Deviation for entire population (STDEV.P): \",round(standard_deviation_full,8))"
   ]
  },
  {
   "cell_type": "code",
   "execution_count": 25,
   "metadata": {},
   "outputs": [
    {
     "name": "stdout",
     "output_type": "stream",
     "text": [
      "Standard Deviation for sample data (STDEV.S):  4.79048357\n"
     ]
    }
   ],
   "source": [
    "# STDEV.S\n",
    "# calculate standard deviation for a sample data from dataset\n",
    "\n",
    "# Create a sample data by using np.random.choice() function \n",
    "number_of_samples = 50\n",
    "\n",
    "sample_population = np.random.choice(full_population, number_of_samples)\n",
    "np.random.shuffle(sample_population)\n",
    "\n",
    "# calculate standarde deviation by calling created previously function\n",
    "STDEV_S = stdev_s(sample_population)\n",
    "\n",
    "# print result\n",
    "\n",
    "print(\"Standard Deviation for sample data (STDEV.S): \",round(STDEV_S,8))"
   ]
  },
  {
   "cell_type": "markdown",
   "metadata": {},
   "source": [
    "##### Compare STDEV.P and STDEV.S calculated on sample data"
   ]
  },
  {
   "cell_type": "markdown",
   "metadata": {},
   "source": [
    "What, if we compare both functions STDEV.P and STDEV.S on Sample Population Data?"
   ]
  },
  {
   "cell_type": "code",
   "execution_count": 26,
   "metadata": {},
   "outputs": [
    {
     "name": "stdout",
     "output_type": "stream",
     "text": [
      "Standard Deviation for sample data (STDEV.S):  4.79048357\n",
      "Standard Deviation for sample data (STDEV.P):  4.74233679\n"
     ]
    }
   ],
   "source": [
    "# Calculation standard deviation of Sample Population Data by using STDEV.P function\n",
    "STDEV_P = stdev_p(sample_population)\n",
    "\n",
    "print(\"Standard Deviation for sample data (STDEV.S): \",round(STDEV_S,8))\n",
    "print(\"Standard Deviation for sample data (STDEV.P): \",round(STDEV_P,8))"
   ]
  },
  {
   "cell_type": "markdown",
   "metadata": {},
   "source": [
    "#### Result\n",
    "\n",
    "Completing the above task allowed me to broaden my knowledge about standard deviation and its implementation using Python programming. The comparison of the two excel functions STDEV.P and STDEV.S showed the impact of the appropriate selection of tools on the final result.\n",
    "\n",
    "As we can see from the calculations, the result for the sample of the population strongly depends on the number of samples used for the calculation. The smaller the number of samples, the greater the difference between the calculated standard deviation and the given standard deviation.\n",
    "\n",
    "Also comparing the calculated Standard Deviation for Sample Population Data using the STDEV.S and STDEV.P functions shows that STDEV.S gives a better estimate when working with a sample data.\n",
    "\n",
    "In fact, most of the data we'll be working with are samples of data from a larger data population."
   ]
  },
  {
   "cell_type": "markdown",
   "metadata": {},
   "source": [
    "#### References\n",
    "\n",
    "<em>[1]</em>. Miscrosoft; STDEV.P function; https://support.microsoft.com/en-us/office/stdev-p-function-6e917c05-31a0-496f-ade7-4f4e7462f285<br>\n",
    "<em>[2]</em>. Corrected sample standard deviation; https://en.wikipedia.org/wiki/Standard_deviation<br>\n",
    "<em>[3]</em>. numpy.random.normal; https://numpy.org/doc/stable/reference/random/generated/numpy.random.normal.html<br>\n",
    "<em>[4]</em>. Visualizing distributions of data; https://seaborn.pydata.org/tutorial/distributions.html<br>"
   ]
  },
  {
   "cell_type": "markdown",
   "metadata": {},
   "source": [
    "### Task 4: k-means clustering to Fisher's Iris data set. "
   ]
  },
  {
   "cell_type": "markdown",
   "metadata": {},
   "source": [
    "#### Description\n",
    "\n",
    "Use <code>scikit-learn</code> to apply $k$-means clustering to Fisher's famous Iris data set.\n",
    "        You will easily obtain a copy of the data set online.\n",
    "        Explain in a Markdown cell how your code works and how accurate it might be, and then explain how your model could be used to make predictions of species of iris."
   ]
  },
  {
   "cell_type": "markdown",
   "metadata": {},
   "source": [
    "#### Research\n",
    "K-means clustering is one of the simplest and popular unsupervised machine learning algorithms <em>[1]</em>. \n",
    "Within the field of machine learning, there are two main types of tasks: supervised, and unsupervised <em>[2]</em>. \n",
    "\n",
    "##### Supervised Machine Learning<br> \n",
    "is where the dataset supplied to the learning machine also contains the expected results. For example, pictures of various flowers and the name of each one. Or a set of emails telling you which of them is spam and which is not. \n",
    "\n",
    "Given the input x and the output y, we can use an algorithm to learn the function from the input to the output. \n",
    "\n",
    "$$ f(x) = y $$\n",
    "\n",
    "Then with the new data x we can use our function to predict the output data y <em>[3]</em>. \n",
    "\n",
    "Thanks to such teaching, we expect that after showing a picture that was not previously in the data set, we will find out what flower it is (before that, there had to be other pictures of this flower for the computer to learn it from there). And the new e-mail will either go to inbox or to spam.\n",
    "\n",
    "\n",
    "<img src=\"img/supervised_ml.png\">\n",
    "<em><center> Fig 1. Supervised learning is typically done in the context of classification and regression [2]. </center></em>\n",
    "\n",
    "<b>Classification:</b> A classification problem is when the output variable is a category, such as “red” or “blue” or “disease” and “no disease”. <br>\n",
    "<b>Regression:</b> A regression problem is when the output variable is a real value, such as “dollars” or “weight”.\n",
    "\n",
    "##### Unsupervised Machine Learning\n",
    "\n",
    "Unsupervised Machine Learning is when we don't provide any answers, just a dataset. For example, we provide pictures of various flowers, but we have no more information about them. We expect that they will be divided into some groups and each new photo will be placed in a group with flowers similar to it.\n",
    "\n",
    "\n",
    "<img src=\"img/unsupervised_ml.png\">\n",
    "\n",
    "Unsupervised learning problems can be further grouped into clustering and association problems.\n",
    "\n",
    "<b>Clustering:</b> A clustering problem is where you want to discover the inherent groupings in the data, such as grouping customers by purchasing behavior. <br>\n",
    "<b>Association:</b>  An association rule learning problem is where you want to discover rules that describe large portions of your data, such as people that buy X also tend to buy Y.\n",
    "\n",
    "<em>[1].</em> Understanding K-means Clustering in Machine Learning; https://towardsdatascience.com/understanding-k-means-clustering-in-machine-learning-6a6e67336aa1 <br>\n",
    "<em>[2].</em> Supervised vs. Unsupervised Learning; https://towardsdatascience.com/supervised-vs-unsupervised-learning-14f68e32ea8d <br>\n",
    "<em>[3].</em> Supervised and Unsupervised Machine Learning Algorithms; https://machinelearningmastery.com/supervised-and-unsupervised-machine-learning-algorithms/\n"
   ]
  },
  {
   "cell_type": "code",
   "execution_count": null,
   "metadata": {},
   "outputs": [],
   "source": []
  }
 ],
 "metadata": {
  "kernelspec": {
   "display_name": "Python 3",
   "language": "python",
   "name": "python3"
  },
  "language_info": {
   "codemirror_mode": {
    "name": "ipython",
    "version": 3
   },
   "file_extension": ".py",
   "mimetype": "text/x-python",
   "name": "python",
   "nbconvert_exporter": "python",
   "pygments_lexer": "ipython3",
   "version": "3.7.5"
  }
 },
 "nbformat": 4,
 "nbformat_minor": 2
}
