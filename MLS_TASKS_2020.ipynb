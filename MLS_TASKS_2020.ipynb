{
 "cells": [
  {
   "cell_type": "markdown",
   "metadata": {},
   "source": [
    "# MLS Tasks 2020\n",
    "\n",
    "Slawomir Sowa<br>\n",
    "G00375619@gmit.ie\n",
    "***"
   ]
  },
  {
   "cell_type": "markdown",
   "metadata": {},
   "source": [
    "### Task 1: Square root of 2 to 100 places\n",
    "#### Description:\n",
    "\n",
    "#### Research:\n",
    "\n",
    "Square root of a number $x$ is a number $y$ that $ y^2 = x$. <em>[1]</em>\n",
    "\n",
    "$$ y = \\sqrt{x} $$\n",
    "    \n",
    "[1] Wikipedia; Square root; https://en.wikipedia.org/wiki/Square_root"
   ]
  },
  {
   "cell_type": "code",
   "execution_count": 1,
   "metadata": {},
   "outputs": [
    {
     "data": {
      "text/plain": [
       "<matplotlib.legend.Legend at 0x1b6cdc87e08>"
      ]
     },
     "execution_count": 1,
     "metadata": {},
     "output_type": "execute_result"
    }
   ],
   "source": [
    "# plot a chart of square root\n",
    "import matplotlib.pyplot as plt\n",
    "import numpy as np\n",
    "\n",
    "# generate evenly spaced numbers between 0 and 10\n",
    "x = np.linspace(0,10,500)\n",
    "\n",
    "# using numby module sqrt calculate square root of generated numbers \n",
    "y = np.sqrt(x)\n",
    "\n",
    "# adjust plot size \n",
    "plt.figure(figsize=(10,7))\n",
    "\n",
    "# generate plot\n",
    "plt.plot(x,y,label=\"Square root\")\n",
    "plt.plot([2,2],[0,3],\":r\")\n",
    "plt.plot([0,4],[np.sqrt(2),np.sqrt(2)],\":r\")\n",
    "plt.plot(2,np.sqrt(2),\"ro\",  markersize=6, label=\"$ \\sqrt{2}$\")\n",
    "\n",
    "\n",
    "# add title and axes\n",
    "plt.title(\"Square root chart\",fontsize = 18 )\n",
    "plt.xlabel(\"$x$\",fontsize = 18)\n",
    "plt.ylabel(\"$y = \\sqrt{x}$\",fontsize = 18)\n",
    "\n",
    "# add text to plot\n",
    "plt.text(0,1.5,\"$aprox. 1.4..$\", fontsize = 14)\n",
    "\n",
    "# show legend\n",
    "plt.legend()\n"
   ]
  },
  {
   "cell_type": "markdown",
   "metadata": {},
   "source": [
    "The red marker on the chart is our topic for calculation. Our task is to calculate $\\sqrt{2}$  to 100 decimal places."
   ]
  },
  {
   "cell_type": "markdown",
   "metadata": {},
   "source": [
    "I started by searching Google for methods to manually calculate the square root. I found a post on Quora <em>[2]</em> that describes many different methods, among others Newton's Method.<br>\n",
    "Newton Method was described as\n",
    ">Newton's method can get you a good estimate quickly, and if you were going to write a computer program to take the square root, Newton's method would be a good way to go.\n",
    "\n",
    "Newton's Definition in wikipedia <em>[3]</em>:\n",
    ">In numerical analysis, Newton's method, also known as the Newton–Raphson method, named after Isaac Newton and Joseph Raphson, is a root-finding algorithm which produces successively better approximations to the roots (or zeroes) of a real-valued function. \n",
    "\n",
    "\n",
    "\n",
    "\n",
    "\n",
    "[2] Quora; Methods to calculate square root ; https://www.quora.com/What-is-the-method-to-calculate-a-square-root-by-hand<br>\n",
    "[3] Wikipedia; Newton's method; https://en.wikipedia.org/wiki/Newton%27s_method\n"
   ]
  },
  {
   "cell_type": "markdown",
   "metadata": {},
   "source": [
    "#### Calculations:\n",
    "\n",
    "The method can be described by the formula <em>[3]</em>:\n",
    "$$ x_{k+1} = x_{k}- \\frac{f(x_{k})}{f'(x_{k})} $$\n",
    "\n",
    "Using this formula we can calculate the approximate square root <em>[4]</em>.\n",
    "\n",
    "$$ \\sqrt{a} = x \\Leftrightarrow a = x^2  \\Leftrightarrow x^2 - a = 0 $$ \n",
    "\n",
    "Then:\n",
    "\n",
    "$$ f(x) = x^2 - a $$\n",
    "\n",
    "and derivative function:\n",
    "$$ f'(x) = 2x $$\n",
    "\n",
    "So now our equation is in the form:\n",
    "\n",
    "$$ x_{k+1} = x_{k}- \\frac{x_k^2 - a}{2x_k} $$\n",
    "<br>\n",
    "\n",
    "$$ x_{k+1} = \\frac{1}{2}(x_k + \\frac{a}{x_k})$$\n",
    "\n",
    "Let's calculate the $\\sqrt{2}$ manually.\n",
    "\n",
    "Our $a=2$ and from the graph we can read that our point is close to $x_0 = 1.5$\n",
    "\n",
    "\n",
    "$$x_1 = \\frac{1}{2}(1.5 + \\frac{2}{1.5}) \\approx 1.416666$$ <br>\n",
    "\n",
    "The next step is to take the result and use it to find a closer approximation to the root.<br>\n",
    "\n",
    "$$x_2 = \\frac{1}{2}(1.416666 + \\frac{2}{1.416666}) \\approx 1.414214$$\n",
    "\n",
    "We could continue computing until we find a satisfactory approximation.\n",
    "\n",
    "[4] Square Roots via Newton’s Method; S. G. Johnson, MIT Course February 4, 2015; https://math.mit.edu/~stevenj/18.335/newton-sqrt.pdf\n"
   ]
  },
  {
   "cell_type": "markdown",
   "metadata": {},
   "source": [
    "#### Create a square root to compare:\n",
    "\n",
    "To be sure of the correctness of my calculations, I will compare my result with: \n",
    "\n",
    " 1. square root of 2 calculated by Decimal Python module \n",
    " 2. square root of 2 calculated by NASA\n",
    " \n",
    "\n",
    "I will use the ready-made calculations made by NASA, taken from [NASA Page](https://apod.nasa.gov/htmltest/gifcity/sqrt2.1mil) and  calculated the square root with a given precision using python and the decimal module.\n",
    "<br>\n",
    "The decimal module provides support for fast correctly-rounded decimal floating point arithmetic.<em>[5]</em>\n",
    "\n",
    "[5] Python documentation; Numeric and Mathematical Modules; https://docs.python.org/3/library/decimal.html"
   ]
  },
  {
   "cell_type": "code",
   "execution_count": 2,
   "metadata": {},
   "outputs": [
    {
     "name": "stdout",
     "output_type": "stream",
     "text": [
      "Python Decimal Result: 1.4142135623730950488016887242096980785696718753769480731766797379907324784621070388503875343276415727\n",
      "Python Decimal Length: 102\n"
     ]
    }
   ],
   "source": [
    "# Generating a model to compare our calculations\n",
    "from decimal import *\n",
    "\n",
    "# set precision\n",
    "getcontext().prec = 101\n",
    "\n",
    "# calculate the square root to 100 decimal places  \n",
    "decimal_sqrt_2 = Decimal(2).sqrt()\n",
    "\n",
    "\n",
    "# calucated square root converted to string \n",
    "decimal_sqrt_2 = str(decimal_sqrt_2)\n",
    "\n",
    "print(\"Python Decimal Result: \" + decimal_sqrt_2)\n",
    "print(\"Python Decimal Length: \" + str(len(decimal_sqrt_2)))\n",
    "\n",
    "# remove whole number and decimal point. leaving only Decimal part\n"
   ]
  },
  {
   "cell_type": "markdown",
   "metadata": {},
   "source": [
    "Let's compare the square root computed by python with that computed by NASA"
   ]
  },
  {
   "cell_type": "code",
   "execution_count": 3,
   "metadata": {},
   "outputs": [
    {
     "name": "stdout",
     "output_type": "stream",
     "text": [
      "NASA Result: 1.4142135623730950488016887242096980785696718753769480731766797379907324784621070388503875343276415727\n",
      "NASA Result Length: 102\n"
     ]
    }
   ],
   "source": [
    "# NASA square root saved as string\n",
    "nasa_sqrt_2 = '''1.4142135623730950488016887242096980785696718753769480731766797379907324784621070388503875343276415727350138\n",
    "46230912297024924836055850737212644121497099935831413222665927505592755799950501152782060571470109559971605970274534596862014\n",
    "7285174186408891986095523292304843087143214508397626036279952514079896872533965463318\n",
    "'''\n",
    "\n",
    "# keep 100 decimal places \n",
    "nasa_sqrt_2 = nasa_sqrt_2[:102]\n",
    "\n",
    "\n",
    "print(\"NASA Result: \" + nasa_sqrt_2)\n",
    "print(\"NASA Result Length: \" + str(len(nasa_sqrt_2)))\n"
   ]
  },
  {
   "cell_type": "code",
   "execution_count": 4,
   "metadata": {},
   "outputs": [],
   "source": [
    "# Compare two generated square roots from NASA and python decimal module \n",
    "def compare(no_1, no_2):\n",
    "    '''the function's task is to compare the sequence of characters in the order of their occurrence. \n",
    "    If the characters are identical, counter increments by one, \n",
    "    else, the function is terminated, counter is returned. \n",
    "    \n",
    "    param : no_1, no_2 \n",
    "    \n",
    "    return : int : count : the number of matching characters \n",
    "    '''\n",
    "    count = 0\n",
    "    \n",
    "    # loop over tow values converted into string\n",
    "    for y,x in zip(str(no_1), str(no_2)):\n",
    "        \n",
    "        # comparing two characters \n",
    "        if x == y:\n",
    "            count += 1\n",
    "        else:\n",
    "            break\n",
    "    return count\n",
    "            \n"
   ]
  },
  {
   "cell_type": "code",
   "execution_count": 5,
   "metadata": {},
   "outputs": [
    {
     "name": "stdout",
     "output_type": "stream",
     "text": [
      "First 102 numbers match.\n"
     ]
    }
   ],
   "source": [
    "# Call function\n",
    "print(f\"First {compare(nasa_sqrt_2,decimal_sqrt_2 )} numbers match.\")"
   ]
  },
  {
   "cell_type": "markdown",
   "metadata": {},
   "source": [
    "#### My Answer Code: \n",
    "\n",
    "##### Attempt 1"
   ]
  },
  {
   "cell_type": "code",
   "execution_count": 6,
   "metadata": {},
   "outputs": [],
   "source": [
    "# Calculate square root without any imported modules\n",
    "\n",
    "# first attempt to solve problem using floating point numbers\n",
    "def calc_sqrt(x): \n",
    "    ''' A function to calculate root of number 2 up to 100 decimal places \n",
    "        param : float or int : number to calculate square root \n",
    "        return : float : square root of x\n",
    "    '''\n",
    "\n",
    "    prec = 10**(-10) # set a precision \n",
    "    i =  x/2  # Initial guess for the square root z\n",
    "    \n",
    "    # Loop required precision is reached \n",
    "    while abs(x-i*i) > prec:\n",
    "        # calculate better approximation\n",
    "        i = (i + x/ i)/2\n",
    "    # return square root of x     \n",
    "    return i\n"
   ]
  },
  {
   "cell_type": "code",
   "execution_count": 7,
   "metadata": {},
   "outputs": [
    {
     "name": "stdout",
     "output_type": "stream",
     "text": [
      "1.4142135623746898698271934335934929549694061279296875000000000000000000000000000000000000000000000000\n"
     ]
    }
   ],
   "source": [
    "root = format(calc_sqrt(2), \",.100f\")\n",
    "print(root)"
   ]
  },
  {
   "cell_type": "code",
   "execution_count": 8,
   "metadata": {},
   "outputs": [
    {
     "name": "stdout",
     "output_type": "stream",
     "text": [
      "First 13 numbers match\n"
     ]
    }
   ],
   "source": [
    "# comparing result from calc_sqrt to data from NASA\n",
    "c = compare(nasa_sqrt_2, root)\n",
    "print(f\"First {c} numbers match\")"
   ]
  },
  {
   "cell_type": "markdown",
   "metadata": {},
   "source": [
    "By reading python documentation <em>[6]</em> I know that using floating point with precision 100 decimal places will not work. \n",
    "\n",
    "\n",
    "[6] Python Documentation ; Floating Point Arithmetic: Issues and Limitations; https://docs.python.org/2/tutorial/floatingpoint.html\n"
   ]
  },
  {
   "cell_type": "markdown",
   "metadata": {},
   "source": [
    "##### Attempt 2"
   ]
  },
  {
   "cell_type": "code",
   "execution_count": 9,
   "metadata": {},
   "outputs": [],
   "source": [
    "# Code adapt from https://rosettacode.org/wiki/Integer_roots#Python\n",
    "\n",
    "def sqrt_2(precision):\n",
    "    '''Method to calculate square root of a number using large integers \n",
    "        param : int : the accuracy with which we want to calculate the square root\n",
    "        return : str : the calculated square root as a large integer is formatted \n",
    "                        and converted into a string representing a floating point number\n",
    "    '''\n",
    "    \n",
    "    \n",
    "    prec = 2*100**precision # Set a precision as a large integer number holds 201 places\n",
    "    \n",
    "    x_1 = 1  # Set Starting Value \n",
    "    \n",
    "    x_2 = (x_1 + prec // (x_1)) // 2 # calculate second step of aproximation  \n",
    "    \n",
    "\n",
    "    while x_1 != x_2:   # While loop repeats steps  of calculating x_1 and x_2 to get closer approximation\n",
    "                        # when x is equal to y the loop stops,\n",
    "                        # which indicates that we have calculated the root with the given precision\n",
    "        x_1 = x_2    \n",
    "        x_2 = (x_2 + prec // x_2) // 2 # calculates precision\n",
    "    \n",
    "    result = f'{x_2  // 10**100}.{x_2  % 10**100:0100d}'\n",
    "    return result\n",
    " "
   ]
  },
  {
   "cell_type": "code",
   "execution_count": 10,
   "metadata": {},
   "outputs": [
    {
     "name": "stdout",
     "output_type": "stream",
     "text": [
      "1.4142135623730950488016887242096980785696718753769480731766797379907324784621070388503875343276415727\n"
     ]
    }
   ],
   "source": [
    "\n",
    "root_2 = sqrt_2(100) # Function Call with precision 100\n",
    "print(root_2)"
   ]
  },
  {
   "cell_type": "code",
   "execution_count": 11,
   "metadata": {},
   "outputs": [
    {
     "name": "stdout",
     "output_type": "stream",
     "text": [
      "First 102 numbers match\n"
     ]
    }
   ],
   "source": [
    "# Use compare function to compare returned value with NASA calculations\n",
    "print(f\"First {compare(root_2,nasa_sqrt_2)} numbers match\")"
   ]
  },
  {
   "cell_type": "code",
   "execution_count": null,
   "metadata": {},
   "outputs": [],
   "source": []
  },
  {
   "cell_type": "code",
   "execution_count": null,
   "metadata": {},
   "outputs": [],
   "source": []
  }
 ],
 "metadata": {
  "kernelspec": {
   "display_name": "Python 3",
   "language": "python",
   "name": "python3"
  },
  "language_info": {
   "codemirror_mode": {
    "name": "ipython",
    "version": 3
   },
   "file_extension": ".py",
   "mimetype": "text/x-python",
   "name": "python",
   "nbconvert_exporter": "python",
   "pygments_lexer": "ipython3",
   "version": "3.7.5"
  }
 },
 "nbformat": 4,
 "nbformat_minor": 2
}
